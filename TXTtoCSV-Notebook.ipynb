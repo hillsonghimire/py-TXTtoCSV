{
 "cells": [
  {
   "cell_type": "code",
   "execution_count": 1,
   "id": "bf2aea32-f8a1-4c4d-9856-c179829dd587",
   "metadata": {},
   "outputs": [
    {
     "name": "stdout",
     "output_type": "stream",
     "text": [
      "['E.1_DischargeWY1980-2004.txt']\n"
     ]
    }
   ],
   "source": [
    "import pandas as pd\n",
    "import numpy as np\n",
    "import re, os, glob, calendar\n",
    "\n",
    "path = './Discharge/'\n",
    "# path = './Discharge/inconsistent/'\n",
    "extension = 'txt'\n",
    "os.chdir(path)\n",
    "result = glob.glob('*.{}'.format(extension))\n",
    "print(result)"
   ]
  },
  {
   "cell_type": "code",
   "execution_count": 2,
   "id": "dea2d103-732d-424d-982b-685b6dd0af7d",
   "metadata": {},
   "outputs": [],
   "source": [
    "for file in result:\n",
    "\n",
    "    fp = open(file, 'r')\n",
    "    getYear = int(fp.readlines()[6].split('-')[1])\n",
    "    fp.close()\n",
    "    \n",
    "    fp = open(file, 'r')\n",
    "    content = fp.read()  \n",
    "    \n",
    "    data = re.split('Date',content)\n",
    "    data_list = []\n",
    "    for i in range(len(data)):\n",
    "        if i!=0:\n",
    "            data_list.append((data[i].split('Total'))[0])\n",
    "    \n",
    "    \n",
    "    year = getYear\n",
    "\n",
    "    dummyDF = pd.DataFrame()\n",
    "\n",
    "    for k in range(len(data_list)):\n",
    "        data_table = pd.DataFrame([x.split('\\t') for x in data_list[k].split('\\n')])\n",
    "\n",
    "        data_table = data_table.iloc[0:-1,0:-2]\n",
    "        data_table.columns = data_table.iloc[0] \n",
    "        data_table = data_table[1:]\n",
    "\n",
    "        data_melted= pd.melt(data_table, id_vars=[''])\n",
    "        abbr_to_num = {name: num for num, name in enumerate(calendar.month_abbr) if num}\n",
    "        headers =  [\"day\", \"month\", \"Discharge\"]\n",
    "        data_melted.columns = headers\n",
    "        for i in  range(len(data_melted[\"month\"])):\n",
    "            data_melted[\"month\"][i] = abbr_to_num[data_melted[\"month\"][i]]\n",
    "\n",
    "        data_melted['year'] = np.where(((data_melted[\"month\"]==1) | (data_melted[\"month\"]==2) | (data_melted[\"month\"]==3)), year+1, year)\n",
    "        data_melted['Date'] = data_melted['year'].astype(str) +\"-\"+ data_melted[\"month\"].astype(str)+\"-\"+ data_melted['day'].astype(str) \n",
    "        data_melted = data_melted[['Date', 'Discharge']]\n",
    "\n",
    "        dummyDF = dummyDF.append([data_melted])  \n",
    "        filter = dummyDF[\"Discharge\"] != \"\"\n",
    "        dfNew = dummyDF[filter]\n",
    "\n",
    "        year = year+1\n",
    "        \n",
    "        fp.close()\n",
    "\n",
    "    name = os.path.splitext(file)[0]\n",
    "    dfNew.to_csv('{}.csv'.format(name), index=False)"
   ]
  }
 ],
 "metadata": {
  "kernelspec": {
   "display_name": "Python 3 (ipykernel)",
   "language": "python",
   "name": "python3"
  },
  "language_info": {
   "codemirror_mode": {
    "name": "ipython",
    "version": 3
   },
   "file_extension": ".py",
   "mimetype": "text/x-python",
   "name": "python",
   "nbconvert_exporter": "python",
   "pygments_lexer": "ipython3",
   "version": "3.9.7"
  }
 },
 "nbformat": 4,
 "nbformat_minor": 5
}
